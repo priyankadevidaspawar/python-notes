{
 "cells": [
  {
   "cell_type": "code",
   "execution_count": null,
   "id": "85d1f962-5229-4c47-b4dd-5d982620a9b2",
   "metadata": {},
   "outputs": [],
   "source": [
    "Q1.  Explain with an example each when to use a for loop and a while loop. \n"
   ]
  },
  {
   "cell_type": "code",
   "execution_count": null,
   "id": "06ad4706-53e6-4c30-ab51-55d86346d434",
   "metadata": {},
   "outputs": [],
   "source": [
    "ans. * A loop is an instruction that executes a statement until a specific condition is reached.\n",
    "       The number of times the loop repeats itself is known as iteration.\n",
    "    *  When to use a for loop =The for loop is used when we already know the number of iterations,\n",
    "                               which means when we know how many times a statement has to be executed. \n",
    "                               That is why we have to specify the ending point in the for loop initialization.\n",
    "            \n",
    "for example: \n",
    "country = ['India', 'UAE', 'United Kingdom']\n",
    "for x in country:\n",
    "    print(x)\n",
    "\n",
    "\n",
    "                \n",
    "    * when to use a while loop = When we need to end the loop on a condition other than the number of times, \n",
    "                                 we use a while loop.\n",
    "                                 In this case, it is not necessary to know the condition beforehand. \n",
    "                                 That is why we can give a boolean expression in the initialization of the loop.\n",
    "for example :\n",
    "count = 0;\n",
    "while count < 10:\n",
    "    print(\"My name is priyanka\")\n",
    "    count += 1\n"
   ]
  },
  {
   "cell_type": "code",
   "execution_count": null,
   "id": "b8c7cae5-f7d5-4b39-94d2-36eb6983ed78",
   "metadata": {},
   "outputs": [],
   "source": [
    "Q2. Write a python program to print the sum and product of the first 10 natural numbers using for  and while loop. \n",
    "  "
   ]
  },
  {
   "cell_type": "code",
   "execution_count": 1,
   "id": "9c6690d7-08f2-4545-a27f-f3a392a2bbf7",
   "metadata": {},
   "outputs": [
    {
     "name": "stdout",
     "output_type": "stream",
     "text": [
      "Sum of 10 natural numbers is:  55\n"
     ]
    }
   ],
   "source": [
    "#ans.\n",
    "sum_to_10 = 0 \n",
    "for i in range(1, 11): \n",
    "    sum_to_10 += i \n",
    "print(\"Sum of 10 natural numbers is: \", sum_to_10) \n"
   ]
  },
  {
   "cell_type": "code",
   "execution_count": 2,
   "id": "70255a8a-7d94-4bd8-b49e-8a5757592d6c",
   "metadata": {},
   "outputs": [
    {
     "name": "stdin",
     "output_type": "stream",
     "text": [
      "enter a number:  10\n"
     ]
    },
    {
     "name": "stdout",
     "output_type": "stream",
     "text": [
      "The sum  of 10 number:  55\n"
     ]
    }
   ],
   "source": [
    "n = int(input(\"enter a number: \"))\n",
    "i = 1\n",
    "sum = 0\n",
    "while (i <= n):\n",
    "    sum = sum + i\n",
    "    i = i + 1\n",
    "print(\"The sum  of 10 number: \", sum)\n"
   ]
  },
  {
   "cell_type": "code",
   "execution_count": 3,
   "id": "80351791-76f5-4058-a991-c9ac6c3bd901",
   "metadata": {},
   "outputs": [
    {
     "name": "stdout",
     "output_type": "stream",
     "text": [
      "product of 10 number is 3628800\n"
     ]
    }
   ],
   "source": [
    "product=1\n",
    "for i in range(1,11):\n",
    "    product=product *i\n",
    "print(\"product of 10 number is\",product)"
   ]
  },
  {
   "cell_type": "code",
   "execution_count": 4,
   "id": "0c0146be-3fee-48fb-ba66-ff86e590b118",
   "metadata": {},
   "outputs": [
    {
     "name": "stdout",
     "output_type": "stream",
     "text": [
      "3628800\n"
     ]
    }
   ],
   "source": [
    "def main():\n",
    "    x = 1\n",
    "    total = 1 \n",
    "    while x <= 10:\n",
    "        total = total * x\n",
    "        x+=1\n",
    "    print(total)\n",
    "main()\n",
    "\n",
    "    "
   ]
  },
  {
   "cell_type": "code",
   "execution_count": null,
   "id": "7e223290-1aad-475e-a0c2-3f504654c725",
   "metadata": {},
   "outputs": [],
   "source": [
    "Q3.  Create a python program to compute the electricity bill for a household. \n",
    "The per-unit charges in rupees are as follows:\n",
    "    For the first 100 units, the user will be charged Rs. 4.5 per  unit,\n",
    "    for the next 100 units, the user will be charged Rs. 6 per unit,\n",
    "    and for the next 100 units, the user will  be charged Rs. 10 per unit, \n",
    "    After 300 units and above the user will be charged Rs. 20 per unit. \n",
    "    You are required to take the units of electricity consumed in a month from the user as input. \n",
    "    Your program must pass this test case: when the unit of electricity consumed by the user in a month is  310, \n",
    "    the total electricity bill should be 2250. \n",
    "\n"
   ]
  },
  {
   "cell_type": "code",
   "execution_count": 7,
   "id": "fcd41ec2-d0cb-41eb-aaf1-06ab4136e6e9",
   "metadata": {},
   "outputs": [
    {
     "name": "stdin",
     "output_type": "stream",
     "text": [
      "enter your unit: 300\n"
     ]
    },
    {
     "name": "stdout",
     "output_type": "stream",
     "text": [
      "total of bill: 6000\n"
     ]
    }
   ],
   "source": [
    "unit=int(input(\"enter your unit:\"))\n",
    "if unit <= 100:\n",
    "    bill=unit*4.5\n",
    "elif unit <=100 and unit <=200:\n",
    "    bill=unit*6\n",
    "elif unit<=200 and unit<=300:\n",
    "    bill=unit*10\n",
    "else:\n",
    "    bill=unit*20\n",
    "print(\"total of bill:\",bill)        "
   ]
  },
  {
   "cell_type": "code",
   "execution_count": null,
   "id": "e98e62cd-3221-476a-8e88-e66fd4432039",
   "metadata": {},
   "outputs": [],
   "source": [
    "Q4. Create a list of numbers from 1 to 100. Use for loop and while loop to calculate the cube of each  number \n",
    "   and if the cube of that number is divisible by 4 or 5 then append that number in a list and print  that list. \n"
   ]
  },
  {
   "cell_type": "code",
   "execution_count": 31,
   "id": "343d2a0f-c68c-44e9-94d5-a292349f06db",
   "metadata": {},
   "outputs": [
    {
     "name": "stdout",
     "output_type": "stream",
     "text": [
      "[1, 8, 27, 64, 125, 216, 343, 512, 729, 1000, 1331, 1728, 2197, 2744, 3375, 4096, 4913, 5832, 6859, 8000, 9261, 10648, 12167, 13824, 15625, 17576, 19683, 21952, 24389, 27000, 29791, 32768, 35937, 39304, 42875, 46656, 50653, 54872, 59319, 64000, 68921, 74088, 79507, 85184, 91125, 97336, 103823, 110592, 117649, 125000, 132651, 140608, 148877, 157464, 166375, 175616, 185193, 195112, 205379, 216000, 226981, 238328, 250047, 262144, 274625, 287496, 300763, 314432, 328509, 343000, 357911, 373248, 389017, 405224, 421875, 438976, 456533, 474552, 493039, 512000, 531441, 551368, 571787, 592704, 614125, 636056, 658503, 681472, 704969, 729000, 753571, 778688, 804357, 830584, 857375, 884736, 912673, 941192, 970299, 1000000]\n"
     ]
    }
   ],
   "source": [
    "x=[] \n",
    "for i in range(1,101): \n",
    "\tx.append(i**3)\n",
    "    \n",
    "print(x) \n",
    "\n",
    "   "
   ]
  },
  {
   "cell_type": "code",
   "execution_count": 34,
   "id": "a6eb1f54-353b-4cb9-8e70-f57beec64e31",
   "metadata": {},
   "outputs": [
    {
     "name": "stdout",
     "output_type": "stream",
     "text": [
      "[0, 15, 30, 45, 60, 75, 90]\n"
     ]
    }
   ],
   "source": [
    "n=100\n",
    "result = [i for i in range(n)  if i%3==0 and i%5==0]\n",
    "print(result)\n"
   ]
  },
  {
   "cell_type": "code",
   "execution_count": null,
   "id": "e9ee5c5a-a3ff-4394-83d5-561288bdce05",
   "metadata": {},
   "outputs": [],
   "source": [
    "Q5.  Write a program to filter count vowels in the below-given string. \n",
    "     string = \"I want to become a data scientist\" \n"
   ]
  },
  {
   "cell_type": "code",
   "execution_count": 6,
   "id": "1d235499-530a-4956-a154-93317ef8bb07",
   "metadata": {},
   "outputs": [
    {
     "name": "stdout",
     "output_type": "stream",
     "text": [
      "4 3 3 2 0\n"
     ]
    }
   ],
   "source": [
    "mystr =   \"I want to become a data scientist\"\n",
    "print(*map(mystr.lower().count, \"aeiou\"))\n"
   ]
  },
  {
   "cell_type": "code",
   "execution_count": null,
   "id": "a43a08c6-26c2-4178-8cdd-5dfca33b27ff",
   "metadata": {},
   "outputs": [],
   "source": []
  }
 ],
 "metadata": {
  "kernelspec": {
   "display_name": "Python 3 (ipykernel)",
   "language": "python",
   "name": "python3"
  },
  "language_info": {
   "codemirror_mode": {
    "name": "ipython",
    "version": 3
   },
   "file_extension": ".py",
   "mimetype": "text/x-python",
   "name": "python",
   "nbconvert_exporter": "python",
   "pygments_lexer": "ipython3",
   "version": "3.10.8"
  }
 },
 "nbformat": 4,
 "nbformat_minor": 5
}
