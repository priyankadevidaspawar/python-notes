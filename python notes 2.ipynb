{
 "cells": [
  {
   "cell_type": "code",
   "execution_count": null,
   "id": "47fa30d1-11c1-4fd0-9179-bdd609849325",
   "metadata": {},
   "outputs": [],
   "source": [
    "Q1. 1. Write a program to accept percentage from the user and display the grade according to the following \n",
    "        Marks \n",
    "Grade \n",
    ">90 \n",
    "A \n",
    ">80 and <=90 \n",
    "B \n",
    ">=60 and <=80 \n",
    "C \n",
    "below 60 \n",
    "D \n",
    "\n"
   ]
  },
  {
   "cell_type": "code",
   "execution_count": 13,
   "id": "19057b78-77ee-476c-9578-1021aea174ea",
   "metadata": {},
   "outputs": [
    {
     "name": "stdin",
     "output_type": "stream",
     "text": [
      "Enter your marks: 94\n"
     ]
    },
    {
     "name": "stdout",
     "output_type": "stream",
     "text": [
      "GRAD A\n"
     ]
    }
   ],
   "source": [
    "#ans\n",
    "marks= int(input(\"Enter your marks:\"))\n",
    "if (marks>90):\n",
    "     print(\"GRAD A\")\n",
    "elif (marks>80)and (marks<=90):\n",
    "     print(\"GRAD B\")\n",
    "elif (marks>=60) and (marks<=80):\n",
    "     print(\"GRAD C\")\n",
    "elif (marks<60):\n",
    "     print(\"GRAD D\")\n",
    "\n",
    "          "
   ]
  },
  {
   "cell_type": "code",
   "execution_count": null,
   "id": "e8585b8d-b104-4df6-8dcf-921a5fdc1bfc",
   "metadata": {},
   "outputs": [],
   "source": [
    "Q2 Write a program to accept the cost price of a bike and display the road tax to be paid according to the \n",
    "following criteria: \n",
    "Tax       Cost Price(in Rs)\n",
    "15%       >100000\n",
    "10%       >50000 and <= 100000\n",
    "5%        <= 50000\n"
   ]
  },
  {
   "cell_type": "code",
   "execution_count": 18,
   "id": "deacdba8-406d-4338-ad17-e1f724fe0b06",
   "metadata": {},
   "outputs": [
    {
     "name": "stdin",
     "output_type": "stream",
     "text": [
      "Enter the price of bike: 120000\n"
     ]
    },
    {
     "name": "stdout",
     "output_type": "stream",
     "text": [
      "18000.0 is he road tax to be paid\n"
     ]
    }
   ],
   "source": [
    "#ans\n",
    "cost_price=float(input(\"Enter the price of bike:\"))\n",
    "if (cost_price > 100000):\n",
    "    tax = 0.15\n",
    "elif (cost_price > 50000) and (cost_price <= 100000):\n",
    "    tax= 0.10\n",
    "elif (cost_price <=50000):\n",
    "    tax = 0.5\n",
    "road_tax= cost_price * tax\n",
    "print(road_tax, \"is he road tax to be paid\")\n",
    "\n"
   ]
  },
  {
   "cell_type": "code",
   "execution_count": null,
   "id": "47efdbac-413e-4e6c-904a-ab7d05404c50",
   "metadata": {},
   "outputs": [],
   "source": [
    "3. Accept any city from the user and display monuments of that city. \n",
    "City         Monument \n",
    "Delhi        Red Fort \n",
    "Agra             Taj Mahal     \n",
    "Jaipur       Jal Mahal \n"
   ]
  },
  {
   "cell_type": "code",
   "execution_count": 20,
   "id": "967a3ed1-54ea-4f8b-a214-330ed7898e34",
   "metadata": {},
   "outputs": [
    {
     "name": "stdin",
     "output_type": "stream",
     "text": [
      "Enter the name of city: agra\n"
     ]
    },
    {
     "name": "stdout",
     "output_type": "stream",
     "text": [
      "Taj mahal\n"
     ]
    }
   ],
   "source": [
    "#ans\n",
    "city=input(\"Enter the name of city:\")\n",
    "if (city==\"delhi\"):\n",
    "    print(\"Red fort\")\n",
    "elif (city==\"agra\"):\n",
    "    print(\"Taj mahal\")\n",
    "elif (city==\"jaipur\"):\n",
    "    print(\"jal mahal\")\n",
    "else:\n",
    "    print(\"enter the valid city\")\n",
    "    "
   ]
  },
  {
   "cell_type": "code",
   "execution_count": null,
   "id": "97ecdbef-de85-42f6-9d98-270ca4c32427",
   "metadata": {},
   "outputs": [],
   "source": [
    "Q4. Check how many times a given number can be divided by 3 before it is less than or equal to 10"
   ]
  },
  {
   "cell_type": "code",
   "execution_count": 13,
   "id": "d49f9c5c-fc8b-46a0-a262-634949a2d6dd",
   "metadata": {},
   "outputs": [
    {
     "name": "stdin",
     "output_type": "stream",
     "text": [
      "enter the number: 11\n"
     ]
    },
    {
     "name": "stdout",
     "output_type": "stream",
     "text": [
      "enter the vlid number\n"
     ]
    }
   ],
   "source": [
    "#ans.\n",
    "num=int(input(\"enter the number:\")) \n",
    "div=3\n",
    "if num%div==0:\n",
    "    print(num)\n",
    "else:\n",
    "    print(\"enter the valid number\")\n",
    "\n",
    "\n",
    "        "
   ]
  },
  {
   "cell_type": "code",
   "execution_count": null,
   "id": "6e3d180b-50d6-41f5-b5c6-f5c4622acc30",
   "metadata": {},
   "outputs": [],
   "source": [
    "Q5.  Why and When to Use while Loop in Python give a detailed description with example \n"
   ]
  },
  {
   "cell_type": "code",
   "execution_count": null,
   "id": "33d547d5-cf05-4b44-963a-e436da738a2e",
   "metadata": {},
   "outputs": [],
   "source": [
    "ans    In programming, loops are used to repeat a block of code. \n",
    "       For example, if we want to show a message 100 times, then we can use a loop.\n",
    "       It's just a simple example, we can achieve much more with loops.\n",
    "     example: Print i as long as i is less than 6:\n",
    "              i = 1\n",
    "              while i < 6:\n",
    "                print(i)\n",
    "                i += 1"
   ]
  },
  {
   "cell_type": "code",
   "execution_count": null,
   "id": "cfc2c483-8dab-4f1f-a9fc-652d42539dc0",
   "metadata": {},
   "outputs": [],
   "source": [
    "Q6. Use nested while loop to print 3 different pattern. \n",
    "  1 * A simple example of the nested while loops.\n",
    "    i=1\n",
    "    while i<=5:\n",
    "    j=1\n",
    "    while j<=i:\n",
    "        print(j,end=\" \")\n",
    "        j=j+1\n",
    "    print(\"\")\n",
    "    i=i+1\n",
    " \n",
    "  2 * Another most common use of nested loop is to print various star and number patterns.\n",
    "         rows = 5\n",
    "         for i in range(1, rows + 1):\n",
    "            for j in range(1, i + 1):\n",
    "                 print(\"*\", end=\" \")\n",
    "            print('')\n",
    "            \n",
    "  3 * Break Nested loop\n",
    "\n",
    "       for i in range(4):\n",
    "          for j in range(4):\n",
    "            if j == i:\n",
    "                break\n",
    "            print(i,j)\n",
    "       "
   ]
  },
  {
   "cell_type": "code",
   "execution_count": null,
   "id": "4136462a-fe4e-4064-8b75-9c15e15a785a",
   "metadata": {},
   "outputs": [],
   "source": [
    "Q7. 7. Reverse a while loop to display numbers from 10 to 1. \n"
   ]
  },
  {
   "cell_type": "code",
   "execution_count": 1,
   "id": "9b9f88ac-5674-4e86-87d7-64206bc23912",
   "metadata": {},
   "outputs": [
    {
     "name": "stdout",
     "output_type": "stream",
     "text": [
      "10\n",
      "9\n",
      "8\n",
      "7\n",
      "6\n",
      "5\n",
      "4\n",
      "3\n",
      "2\n",
      "1\n"
     ]
    }
   ],
   "source": [
    "#ans.\n",
    "i = 10\n",
    "while i > 0:\n",
    "    print(i)\n",
    "    i = i - 1\n"
   ]
  },
  {
   "cell_type": "code",
   "execution_count": null,
   "id": "8200148c-a6a3-49c1-922a-942ffe82dc6c",
   "metadata": {},
   "outputs": [],
   "source": [
    "Q8. Reverse a while loop to display numbers from 10 to 1 \n"
   ]
  },
  {
   "cell_type": "code",
   "execution_count": 4,
   "id": "65ab813d-f56e-4ede-aee8-6878b10b7649",
   "metadata": {},
   "outputs": [],
   "source": [
    "#ans\n",
    "i=0\n",
    "while i>0:\n",
    "    print(i)\n",
    "    i-=1"
   ]
  }
 ],
 "metadata": {
  "kernelspec": {
   "display_name": "Python 3 (ipykernel)",
   "language": "python",
   "name": "python3"
  },
  "language_info": {
   "codemirror_mode": {
    "name": "ipython",
    "version": 3
   },
   "file_extension": ".py",
   "mimetype": "text/x-python",
   "name": "python",
   "nbconvert_exporter": "python",
   "pygments_lexer": "ipython3",
   "version": "3.10.8"
  }
 },
 "nbformat": 4,
 "nbformat_minor": 5
}
