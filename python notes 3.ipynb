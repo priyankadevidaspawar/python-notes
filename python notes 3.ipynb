{
 "cells": [
  {
   "cell_type": "code",
   "execution_count": null,
   "id": "5d6853be-9f2a-491d-b274-5d0608c49406",
   "metadata": {},
   "outputs": [],
   "source": [
    "Q1. Which keyword is used to create a function?\n",
    "     Create a function to return a list of odd numbers in the  range of 1 to 25. "
   ]
  },
  {
   "cell_type": "code",
   "execution_count": 3,
   "id": "f46cea04-def0-44ad-972f-fef809758783",
   "metadata": {},
   "outputs": [
    {
     "data": {
      "text/plain": [
       "[1, 3, 5, 7, 9, 11, 13, 15, 17, 19, 21, 23, 25]"
      ]
     },
     "execution_count": 3,
     "metadata": {},
     "output_type": "execute_result"
    }
   ],
   "source": [
    "#ans. The def keyword is used to create, (or define) a function\n",
    "def odd_numbers(n):\n",
    "    return [x for x in range(0, n+1) if x%2 != 0]\n",
    "odd_numbers(25)"
   ]
  },
  {
   "cell_type": "code",
   "execution_count": null,
   "id": "4476c88c-d337-4c9a-9df0-92430fdcdff7",
   "metadata": {},
   "outputs": [],
   "source": [
    "Q2. Why *args and **kwargs is used in some functions? \n",
    "    Create a function each for *args and **kwargs  to demonstrate their use. \n"
   ]
  },
  {
   "cell_type": "code",
   "execution_count": 4,
   "id": "bfd64c6d-67cd-4ca3-9e3a-b9c545ae1943",
   "metadata": {},
   "outputs": [
    {
     "data": {
      "text/plain": [
       "21"
      ]
     },
     "execution_count": 4,
     "metadata": {},
     "output_type": "execute_result"
    }
   ],
   "source": [
    "\"\"\"ANS.  *args: It is used to pass multiple arguments in a function.\n",
    "         **kwargs: It is used to pass multiple keyworded arguments in a function in python. \"\"\"\n",
    "def my_var(*args):\n",
    "    sum=0\n",
    "    for arg in args:\n",
    "        sum+=arg\n",
    "    return sum\n",
    "my_var(1,2,3,4,5,6)"
   ]
  },
  {
   "cell_type": "code",
   "execution_count": 7,
   "id": "f4c06072-d947-46cb-9095-9d28e6f6afd6",
   "metadata": {},
   "outputs": [
    {
     "name": "stdout",
     "output_type": "stream",
     "text": [
      "name priya\n",
      "sirname pawar\n"
     ]
    }
   ],
   "source": [
    "def my_fun(**kwargs):\n",
    "    for key,value in kwargs.items():\n",
    "        print(key,value)\n",
    "my_fun(name=\"priya\",sirname=\"pawar\")"
   ]
  },
  {
   "cell_type": "code",
   "execution_count": null,
   "id": "415c7137-bbd5-4ca6-b5f8-b3b70399c0a6",
   "metadata": {},
   "outputs": [],
   "source": [
    "Q3.  What is an iterator in python? \n",
    "     Name the method used to initialise the iterator object and the method  used for iteration.\n",
    "     Use these methods to print the first five elements of the given list [2, 4, 6, 8, 10, 12, 14,  16, 18, 20]. \n"
   ]
  },
  {
   "cell_type": "code",
   "execution_count": null,
   "id": "b35f9751-56cb-42cc-b7ba-bb25174fda00",
   "metadata": {},
   "outputs": [],
   "source": [
    "#ans. An iterator is an object that contains a countable number of values.\n",
    "      An iterator is an object that can be iterated upon, meaning that you can traverse through all the values.\n",
    "      Technically, in Python, an iterator is an object which implements the iterator protocol, \n",
    "      which consist of the methods __iter__() and __next__().\n",
    "\n"
   ]
  },
  {
   "cell_type": "code",
   "execution_count": 20,
   "id": "4f6ea08c-0c4d-40fb-bc26-2a76c2108664",
   "metadata": {},
   "outputs": [
    {
     "name": "stdout",
     "output_type": "stream",
     "text": [
      "[2, 4, 6, 8, 10]\n"
     ]
    }
   ],
   "source": [
    "List = [2, 4, 6, 8, 10, 12, 14,  16, 18, 20]\n",
    "newlist=[x for x in List if x<12]\n",
    "print(newlist)\n"
   ]
  },
  {
   "cell_type": "code",
   "execution_count": null,
   "id": "cacdfe8f-ca2e-4e28-9aac-7c0a5715270f",
   "metadata": {},
   "outputs": [],
   "source": [
    "Q4.  What is a generator function in python? Why yield keyword is used? Give an example of a generator  function. \n"
   ]
  },
  {
   "cell_type": "code",
   "execution_count": null,
   "id": "7bdae035-9363-4a7e-9890-1a4bd275026a",
   "metadata": {},
   "outputs": [],
   "source": [
    "Generator-Function: A generator-function is defined like a normal function,\n",
    "but whenever it needs to generate a value, it does so with the yield keyword rather than return.\n",
    "If the body of a def contains yield, the function automatically becomes a generator function. \n",
    "\n",
    "def simpleGeneratorFun():\n",
    "    yield 1           \n",
    "    yield 2           \n",
    "    yield 3           \n",
    "for value in simpleGeneratorFun():\n",
    "    print(value)\n"
   ]
  },
  {
   "cell_type": "code",
   "execution_count": null,
   "id": "8c98dd81-73fa-4bff-a775-fecc57c2c1c6",
   "metadata": {},
   "outputs": [],
   "source": [
    "Q5. Create a generator function for prime numbers less than 1000. \n",
    "    Use the next() method to print the  first 20 prime numbers. \n"
   ]
  },
  {
   "cell_type": "code",
   "execution_count": 38,
   "id": "08666518-8471-4b51-9020-d9cf656f0df2",
   "metadata": {},
   "outputs": [
    {
     "name": "stdout",
     "output_type": "stream",
     "text": [
      "2 3 5 7 11 13 17 19 23 29 31 37 41 43 47 53 59 61 67 71 73 79 83 89 97 101 103 107 109 113 127 131 137 139 149 151 157 163 167 173 179 181 191 193 197 199 211 223 227 229 233 239 241 251 257 263 269 271 277 281 283 293 307 311 313 317 331 337 347 349 353 359 367 373 379 383 389 397 401 409 419 421 431 433 439 443 449 457 461 463 467 479 487 491 499 503 509 521 523 541 547 557 563 569 571 577 587 593 599 601 607 613 617 619 631 641 643 647 653 659 661 673 677 683 691 701 709 719 727 733 739 743 751 757 761 769 773 787 797 809 811 821 823 827 829 839 853 857 859 863 877 881 883 887 907 911 919 929 937 941 947 953 967 971 977 983 991 997 "
     ]
    }
   ],
   "source": [
    "#ans\n",
    "for num in range(2,1000):\n",
    "    for i in range(2,num):\n",
    "        if (num%i==0):\n",
    "            break\n",
    "    else:\n",
    "        print(num,end=' ')\n"
   ]
  },
  {
   "cell_type": "code",
   "execution_count": null,
   "id": "88046c3a-8693-46f8-805a-0afbc4a4a1ff",
   "metadata": {},
   "outputs": [],
   "source": [
    "Q6. Write a python program to print the first 10 Fibonacci numbers using a while loop. \n"
   ]
  },
  {
   "cell_type": "code",
   "execution_count": 6,
   "id": "7154f1ba-a144-4cc3-b5d8-dfb7a0a3ce54",
   "metadata": {},
   "outputs": [
    {
     "name": "stdin",
     "output_type": "stream",
     "text": [
      "enter the number 10\n"
     ]
    },
    {
     "name": "stdout",
     "output_type": "stream",
     "text": [
      "0\n",
      "1\n",
      "1\n",
      "2\n",
      "3\n",
      "5\n",
      "8\n",
      "13\n",
      "21\n",
      "34\n"
     ]
    }
   ],
   "source": [
    "num=int(input(\"enter the number\"))\n",
    "a,b=0,1\n",
    "counter=0\n",
    "while counter<num:   \n",
    "    print(a)                                                 \n",
    "    c=a+b           \n",
    "    a=b              \n",
    "    b=c              \n",
    "    counter=counter+1 "
   ]
  },
  {
   "cell_type": "code",
   "execution_count": null,
   "id": "63604a9c-d808-46fd-8380-32b77c2ee227",
   "metadata": {},
   "outputs": [],
   "source": [
    "Q7. Write a List Comprehension to iterate through the given string: ‘pwskills’. \n",
    "    Expected output: ['p', 'w', 's', 'k', 'i', 'l', 'l', 's']  \n"
   ]
  },
  {
   "cell_type": "code",
   "execution_count": 13,
   "id": "f63fae57-582a-4a64-bad9-964e17de4b5c",
   "metadata": {},
   "outputs": [
    {
     "name": "stdout",
     "output_type": "stream",
     "text": [
      "['p', 'w', 's', 'k', 'i', 'l', 'l', 's']\n"
     ]
    }
   ],
   "source": [
    "List = [character for character in 'pwskills']\n",
    "print(List)\n"
   ]
  },
  {
   "cell_type": "code",
   "execution_count": null,
   "id": "e6e87ad6-f4f8-41c2-b693-38b449a9741e",
   "metadata": {},
   "outputs": [],
   "source": [
    "Q8. Write a python program to check whether a given number is Palindrome or not using a while loop. \n"
   ]
  },
  {
   "cell_type": "code",
   "execution_count": 3,
   "id": "5e1d751e-42cf-4995-bcb7-25c97bbc11f1",
   "metadata": {},
   "outputs": [
    {
     "name": "stdin",
     "output_type": "stream",
     "text": [
      "enter sequence 232\n"
     ]
    },
    {
     "name": "stdout",
     "output_type": "stream",
     "text": [
      "palindrome\n"
     ]
    }
   ],
   "source": [
    "a=input(\"enter sequence\")\n",
    "b=a[::-1]\n",
    "if a==b:\n",
    "    print(\"palindrome\")\n",
    "else:\n",
    "    print(\"Not a Palindrome\")"
   ]
  },
  {
   "cell_type": "code",
   "execution_count": null,
   "id": "0fbb0bb5-fb70-403a-9cad-85e91ba6128e",
   "metadata": {},
   "outputs": [],
   "source": [
    "Q9. Write a code to print odd numbers from 1 to 100 using list comprehension. \n"
   ]
  },
  {
   "cell_type": "code",
   "execution_count": 15,
   "id": "ab01db5e-f5ea-4daf-9aec-bd0946c49c2c",
   "metadata": {},
   "outputs": [
    {
     "name": "stdout",
     "output_type": "stream",
     "text": [
      "[1, 3, 5, 7, 9, 11, 13, 15, 17, 19, 21, 23, 25, 27, 29, 31, 33, 35, 37, 39, 41, 43, 45, 47, 49, 51, 53, 55, 57, 59, 61, 63, 65, 67, 69, 71, 73, 75, 77, 79, 81, 83, 85, 87, 89, 91, 93, 95, 97, 99]\n"
     ]
    }
   ],
   "source": [
    "#ans\n",
    "odd_list = [element for element in range(1, 101) if element % 2 == 1 ]\n",
    "print(odd_list)\n"
   ]
  }
 ],
 "metadata": {
  "kernelspec": {
   "display_name": "Python 3 (ipykernel)",
   "language": "python",
   "name": "python3"
  },
  "language_info": {
   "codemirror_mode": {
    "name": "ipython",
    "version": 3
   },
   "file_extension": ".py",
   "mimetype": "text/x-python",
   "name": "python",
   "nbconvert_exporter": "python",
   "pygments_lexer": "ipython3",
   "version": "3.10.8"
  }
 },
 "nbformat": 4,
 "nbformat_minor": 5
}
